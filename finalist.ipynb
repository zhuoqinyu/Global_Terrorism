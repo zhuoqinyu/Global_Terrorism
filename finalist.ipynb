{
 "cells": [
  {
   "cell_type": "markdown",
   "metadata": {},
   "source": [
    "# The Analysis of Global Terrorism 1970-2015"
   ]
  },
  {
   "cell_type": "code",
   "execution_count": 1,
   "metadata": {},
   "outputs": [
    {
     "name": "stderr",
     "output_type": "stream",
     "text": [
      "IOPub data rate exceeded.\n",
      "The notebook server will temporarily stop sending output\n",
      "to the client in order to avoid crashing it.\n",
      "To change this limit, set the config variable\n",
      "`--NotebookApp.iopub_data_rate_limit`.\n"
     ]
    },
    {
     "data": {
      "text/html": [
       "<script>requirejs.config({paths: { 'plotly': ['https://cdn.plot.ly/plotly-latest.min']},});if(!window.Plotly) {{require(['plotly'],function(plotly) {window.Plotly=plotly;});}}</script>"
      ],
      "text/vnd.plotly.v1+html": [
       "<script>requirejs.config({paths: { 'plotly': ['https://cdn.plot.ly/plotly-latest.min']},});if(!window.Plotly) {{require(['plotly'],function(plotly) {window.Plotly=plotly;});}}</script>"
      ]
     },
     "metadata": {},
     "output_type": "display_data"
    }
   ],
   "source": [
    "import pandas as pd\n",
    "import numpy as np\n",
    "import matplotlib. pyplot as plt\n",
    "import seaborn as sns\n",
    "import ini_data as ini\n",
    "import analysis as an\n"
   ]
  },
  {
   "cell_type": "markdown",
   "metadata": {},
   "source": [
    "## 1. Global Analysis"
   ]
  },
  {
   "cell_type": "markdown",
   "metadata": {},
   "source": [
    "### Time Series Statistical Overview"
   ]
  },
  {
   "cell_type": "code",
   "execution_count": 2,
   "metadata": {},
   "outputs": [
    {
     "data": {
      "application/vnd.jupyter.widget-view+json": {
       "model_id": "b2cd46c81be743c4a8df081c3900c038"
      }
     },
     "metadata": {},
     "output_type": "display_data"
    }
   ],
   "source": [
    "from ipywidgets import widgets,IntSlider, Dropdown, interact, ToggleButtons\n",
    "from IPython.display import display\n",
    "an.Display_report_time_series()"
   ]
  },
  {
   "cell_type": "markdown",
   "metadata": {},
   "source": [
    "### Geographic density plot of terrorism"
   ]
  },
  {
   "cell_type": "code",
   "execution_count": 3,
   "metadata": {},
   "outputs": [
    {
     "data": {
      "application/vnd.jupyter.widget-view+json": {
       "model_id": "0b3636087a594996a0d3a74a809eefa5"
      }
     },
     "metadata": {},
     "output_type": "display_data"
    }
   ],
   "source": [
    "\n",
    "import choropleth as cho\n",
    "cho.Display_Your_Choropleth()"
   ]
  },
  {
   "cell_type": "markdown",
   "metadata": {},
   "source": [
    "## Heatmap"
   ]
  },
  {
   "cell_type": "code",
   "execution_count": 5,
   "metadata": {},
   "outputs": [
    {
     "data": {
      "application/vnd.jupyter.widget-view+json": {
       "model_id": "ac78e86b6b494930ac7534b1cd68c7b3"
      }
     },
     "metadata": {},
     "output_type": "display_data"
    }
   ],
   "source": [
    "#Regional heatmap over time\n",
    "import heatmap as ht\n",
    "ht.Plot_heatmap_region()"
   ]
  },
  {
   "cell_type": "code",
   "execution_count": 6,
   "metadata": {},
   "outputs": [
    {
     "data": {
      "application/vnd.jupyter.widget-view+json": {
       "model_id": "e52c80039d6e4c0c903664e980581719"
      }
     },
     "metadata": {},
     "output_type": "display_data"
    }
   ],
   "source": [
    "import heatmap as ht\n",
    "#ht.gta().df\n",
    "ht.Plot_heatmap_attack()\n"
   ]
  },
  {
   "cell_type": "code",
   "execution_count": 7,
   "metadata": {},
   "outputs": [
    {
     "data": {
      "application/vnd.jupyter.widget-view+json": {
       "model_id": "afd053f3abca4cccaa8a5e1458808592"
      }
     },
     "metadata": {},
     "output_type": "display_data"
    }
   ],
   "source": [
    "ht.Plot_heatmap_target()"
   ]
  }
 ],
 "metadata": {
  "kernelspec": {
   "display_name": "Python 3",
   "language": "python",
   "name": "python3"
  },
  "language_info": {
   "codemirror_mode": {
    "name": "ipython",
    "version": 3
   },
   "file_extension": ".py",
   "mimetype": "text/x-python",
   "name": "python",
   "nbconvert_exporter": "python",
   "pygments_lexer": "ipython3",
   "version": "3.6.1"
  },
  "widgets": {
   "application/vnd.jupyter.widget-state+json": {
    "state": {
     "0b3636087a594996a0d3a74a809eefa5": {
      "model_module": "jupyter-js-widgets",
      "model_module_version": "~2.1.4",
      "model_name": "VBoxModel",
      "state": {
       "_dom_classes": [
        "widget-interact"
       ],
       "_model_module_version": "~2.1.4",
       "_view_module_version": "~2.1.4",
       "children": [
        "IPY_MODEL_e804e5007ba14a6facdfe8fbf0e5dc17",
        "IPY_MODEL_be7b32a37698413ab2b52a0179e91fb6",
        "IPY_MODEL_5a3fe22aae5f469c9823c2c4027501a0",
        "IPY_MODEL_e6a96ea1de544c8dbe2f6a298070955b"
       ],
       "layout": "IPY_MODEL_63a44a679e504d6abf42e169275a1130"
      }
     },
     "0c313bf15ca4498ba1a21029b57b9962": {
      "model_module": "jupyter-js-widgets",
      "model_module_version": "~2.1.4",
      "model_name": "ToggleButtonsModel",
      "state": {
       "_model_module_version": "~2.1.4",
       "_options_labels": [
        "Year",
        "Region"
       ],
       "_view_module_version": "~2.1.4",
       "button_style": "",
       "description": "X-axis",
       "icons": [],
       "layout": "IPY_MODEL_43b09cf42b7a4e03bc6545ce41f385e4",
       "tooltips": [],
       "value": "Year"
      }
     },
     "1392fab9f6f942f7937e27a27ed6d496": {
      "model_module": "jupyter-js-widgets",
      "model_module_version": "~2.1.4",
      "model_name": "LayoutModel",
      "state": {
       "_model_module_version": "~2.1.4",
       "_view_module_version": "~2.1.4"
      }
     },
     "269a26b9413d403abe9f4e52791946d0": {
      "model_module": "jupyter-js-widgets",
      "model_module_version": "~2.1.4",
      "model_name": "LayoutModel",
      "state": {
       "_model_module_version": "~2.1.4",
       "_view_module_version": "~2.1.4"
      }
     },
     "2e38ae2bc3664a1a9773d68d9cc85dcf": {
      "model_module": "jupyter-js-widgets",
      "model_module_version": "~2.1.4",
      "model_name": "ToggleButtonsModel",
      "state": {
       "_model_module_version": "~2.1.4",
       "_options_labels": [
        "Death",
        "Wound",
        "Casualty"
       ],
       "_view_module_version": "~2.1.4",
       "button_style": "",
       "description": "Feature",
       "icons": [],
       "layout": "IPY_MODEL_5609100011a04f54b9513497573d2a96",
       "tooltips": [],
       "value": "Casualty"
      }
     },
     "324b411c6de34ea4a1fcbce0a7ed6541": {
      "model_module": "jupyter-js-widgets",
      "model_module_version": "~2.1.4",
      "model_name": "ToggleButtonsModel",
      "state": {
       "_model_module_version": "~2.1.4",
       "_options_labels": [
        "Death",
        "Wound",
        "Casualty"
       ],
       "_view_module_version": "~2.1.4",
       "button_style": "",
       "description": "Feature",
       "icons": [],
       "layout": "IPY_MODEL_43bf81e8cf8c45428baba65cb0e17ad8",
       "tooltips": [],
       "value": "Casualty"
      }
     },
     "32d0c942a2484823bfe61d6511cb6eb9": {
      "model_module": "jupyter-js-widgets",
      "model_module_version": "~2.1.4",
      "model_name": "DropdownModel",
      "state": {
       "_model_module_version": "~2.1.4",
       "_options_labels": [
        "World",
        "Afghanistan",
        "Albania",
        "Algeria",
        "Andorra",
        "Angola",
        "Antigua and Barbuda",
        "Argentina",
        "Armenia",
        "Australia",
        "Austria",
        "Azerbaijan",
        "Bahamas",
        "Bahrain",
        "Bangladesh",
        "Barbados",
        "Belarus",
        "Belgium",
        "Belize",
        "Benin",
        "Bhutan",
        "Bolivia",
        "Bosnia-Herzegovina",
        "Botswana",
        "Brazil",
        "Brunei",
        "Bulgaria",
        "Burkina Faso",
        "Burundi",
        "Cambodia",
        "Cameroon",
        "Canada",
        "Central African Republic",
        "Chad",
        "Chile",
        "China",
        "Colombia",
        "Comoros",
        "Costa Rica",
        "Croatia",
        "Cuba",
        "Cyprus",
        "Czech Republic",
        "Czechoslovakia",
        "Democratic Republic of the Congo",
        "Denmark",
        "Djibouti",
        "Dominica",
        "Dominican Republic",
        "East Germany (GDR)",
        "East Timor",
        "Ecuador",
        "Egypt",
        "El Salvador",
        "Equatorial Guinea",
        "Eritrea",
        "Estonia",
        "Ethiopia",
        "Falkland Islands",
        "Fiji",
        "Finland",
        "France",
        "French Guiana",
        "French Polynesia",
        "Gabon",
        "Gambia",
        "Georgia",
        "Germany",
        "Ghana",
        "Greece",
        "Grenada",
        "Guadeloupe",
        "Guatemala",
        "Guinea",
        "Guinea-Bissau",
        "Guyana",
        "Haiti",
        "Honduras",
        "Hong Kong",
        "Hungary",
        "Iceland",
        "India",
        "Indonesia",
        "International",
        "Iran",
        "Iraq",
        "Ireland",
        "Israel",
        "Italy",
        "Ivory Coast",
        "Jamaica",
        "Japan",
        "Jordan",
        "Kazakhstan",
        "Kenya",
        "Kosovo",
        "Kuwait",
        "Kyrgyzstan",
        "Laos",
        "Latvia",
        "Lebanon",
        "Lesotho",
        "Liberia",
        "Libya",
        "Lithuania",
        "Luxembourg",
        "Macau",
        "Macedonia",
        "Madagascar",
        "Malawi",
        "Malaysia",
        "Maldives",
        "Mali",
        "Malta",
        "Martinique",
        "Mauritania",
        "Mauritius",
        "Mexico",
        "Moldova",
        "Montenegro",
        "Morocco",
        "Mozambique",
        "Myanmar",
        "Namibia",
        "Nepal",
        "Netherlands",
        "New Caledonia",
        "New Hebrides",
        "New Zealand",
        "Nicaragua",
        "Niger",
        "Nigeria",
        "North Korea",
        "North Yemen",
        "Norway",
        "Pakistan",
        "Panama",
        "Papua New Guinea",
        "Paraguay",
        "People's Republic of the Congo",
        "Peru",
        "Philippines",
        "Poland",
        "Portugal",
        "Qatar",
        "Republic of the Congo",
        "Rhodesia",
        "Romania",
        "Russia",
        "Rwanda",
        "Saudi Arabia",
        "Senegal",
        "Serbia",
        "Serbia-Montenegro",
        "Seychelles",
        "Sierra Leone",
        "Singapore",
        "Slovak Republic",
        "Slovenia",
        "Solomon Islands",
        "Somalia",
        "South Africa",
        "South Korea",
        "South Sudan",
        "South Vietnam",
        "South Yemen",
        "Soviet Union",
        "Spain",
        "Sri Lanka",
        "St. Kitts and Nevis",
        "St. Lucia",
        "Sudan",
        "Suriname",
        "Swaziland",
        "Sweden",
        "Switzerland",
        "Syria",
        "Taiwan",
        "Tajikistan",
        "Tanzania",
        "Thailand",
        "Togo",
        "Trinidad and Tobago",
        "Tunisia",
        "Turkey",
        "Turkmenistan",
        "Uganda",
        "Ukraine",
        "United Arab Emirates",
        "United Kingdom",
        "United States",
        "Uruguay",
        "Uzbekistan",
        "Vanuatu",
        "Vatican City",
        "Venezuela",
        "Vietnam",
        "Wallis and Futuna",
        "West Bank and Gaza Strip",
        "West Germany (FRG)",
        "Western Sahara",
        "Yemen",
        "Yugoslavia",
        "Zaire",
        "Zambia",
        "Zimbabwe"
       ],
       "_view_module_version": "~2.1.4",
       "description": "Country:",
       "layout": "IPY_MODEL_f4fd0baae07149fa8029610177027251",
       "value": "World"
      }
     },
     "3e7d2ff400164bc18e27a180dbf8d3e3": {
      "model_module": "jupyter-js-widgets",
      "model_module_version": "~2.1.4",
      "model_name": "ToggleButtonsModel",
      "state": {
       "_model_module_version": "~2.1.4",
       "_options_labels": [
        "Year",
        "Region"
       ],
       "_view_module_version": "~2.1.4",
       "button_style": "",
       "description": "X-axis",
       "icons": [],
       "layout": "IPY_MODEL_fd8cb236497142e3a1bc99c5fef85e20",
       "tooltips": [],
       "value": "Year"
      }
     },
     "43b09cf42b7a4e03bc6545ce41f385e4": {
      "model_module": "jupyter-js-widgets",
      "model_module_version": "~2.1.4",
      "model_name": "LayoutModel",
      "state": {
       "_model_module_version": "~2.1.4",
       "_view_module_version": "~2.1.4"
      }
     },
     "43bf81e8cf8c45428baba65cb0e17ad8": {
      "model_module": "jupyter-js-widgets",
      "model_module_version": "~2.1.4",
      "model_name": "LayoutModel",
      "state": {
       "_model_module_version": "~2.1.4",
       "_view_module_version": "~2.1.4"
      }
     },
     "46226b98244b41dfb38955a3eb941787": {
      "model_module": "jupyter-js-widgets",
      "model_module_version": "~2.1.4",
      "model_name": "LayoutModel",
      "state": {
       "_model_module_version": "~2.1.4",
       "_view_module_version": "~2.1.4"
      }
     },
     "491b5ad03339401b9c465582a5d29c2f": {
      "model_module": "jupyter-js-widgets",
      "model_module_version": "~2.1.4",
      "model_name": "SliderStyleModel",
      "state": {
       "_model_module_version": "~2.1.4",
       "_view_module_version": "~2.1.4"
      }
     },
     "5609100011a04f54b9513497573d2a96": {
      "model_module": "jupyter-js-widgets",
      "model_module_version": "~2.1.4",
      "model_name": "LayoutModel",
      "state": {
       "_model_module_version": "~2.1.4",
       "_view_module_version": "~2.1.4"
      }
     },
     "574be7f47d44496d9e8da1303e1d7151": {
      "model_module": "jupyter-js-widgets",
      "model_module_version": "~2.1.4",
      "model_name": "LayoutModel",
      "state": {
       "_model_module_version": "~2.1.4",
       "_view_module_version": "~2.1.4"
      }
     },
     "5a3fe22aae5f469c9823c2c4027501a0": {
      "model_module": "jupyter-js-widgets",
      "model_module_version": "~2.1.4",
      "model_name": "IntSliderModel",
      "state": {
       "_model_module_version": "~2.1.4",
       "_view_module_version": "~2.1.4",
       "continuous_update": false,
       "description": "Year",
       "layout": "IPY_MODEL_ec46d64e2ef943f6b531d983061dc973",
       "max": 2015,
       "min": 1970,
       "readout_format": "i",
       "style": "IPY_MODEL_491b5ad03339401b9c465582a5d29c2f",
       "value": 2010
      }
     },
     "63991094d4834f648a1d2459e88201df": {
      "model_module": "jupyter-js-widgets",
      "model_module_version": "~2.1.4",
      "model_name": "TextModel",
      "state": {
       "_model_module_version": "~2.1.4",
       "_view_module_version": "~2.1.4",
       "description": "cmap",
       "layout": "IPY_MODEL_c60b19dc6d0748fcbee731a9e9248640",
       "value": "RdBu_r"
      }
     },
     "63a44a679e504d6abf42e169275a1130": {
      "model_module": "jupyter-js-widgets",
      "model_module_version": "~2.1.4",
      "model_name": "LayoutModel",
      "state": {
       "_model_module_version": "~2.1.4",
       "_view_module_version": "~2.1.4"
      }
     },
     "7158d5aad0f743e0b55619176f47089d": {
      "model_module": "jupyter-js-widgets",
      "model_module_version": "~2.1.4",
      "model_name": "LayoutModel",
      "state": {
       "_model_module_version": "~2.1.4",
       "_view_module_version": "~2.1.4"
      }
     },
     "72b9b84727b840cfa6fe21941080c07a": {
      "model_module": "jupyter-js-widgets",
      "model_module_version": "~2.1.4",
      "model_name": "ToggleButtonsModel",
      "state": {
       "_model_module_version": "~2.1.4",
       "_options_labels": [
        "Death",
        "Wound",
        "Casualty"
       ],
       "_view_module_version": "~2.1.4",
       "button_style": "",
       "description": "Feature",
       "icons": [],
       "layout": "IPY_MODEL_95534dd36ca44051a2815e6665a60fb3",
       "tooltips": [],
       "value": "Casualty"
      }
     },
     "83122590ca02450cb26844fcc832ca8c": {
      "model_module": "jupyter-js-widgets",
      "model_module_version": "~2.1.4",
      "model_name": "OutputModel",
      "state": {
       "_dom_classes": [],
       "_model_module": "jupyter-js-widgets",
       "_model_module_version": "~2.1.4",
       "_view_module": "jupyter-js-widgets",
       "_view_module_version": "~2.1.4",
       "layout": "IPY_MODEL_d11b1c74fcaa4ec2ae05d9f530eccbb2",
       "msg_throttle": 1
      }
     },
     "85e517600f6d4ec5994a13c9743f89b9": {
      "model_module": "jupyter-js-widgets",
      "model_module_version": "~2.1.4",
      "model_name": "OutputModel",
      "state": {
       "_dom_classes": [],
       "_model_module": "jupyter-js-widgets",
       "_model_module_version": "~2.1.4",
       "_view_module": "jupyter-js-widgets",
       "_view_module_version": "~2.1.4",
       "layout": "IPY_MODEL_ff399e28b4db4ce38af751af53a993cd",
       "msg_throttle": 1
      }
     },
     "95534dd36ca44051a2815e6665a60fb3": {
      "model_module": "jupyter-js-widgets",
      "model_module_version": "~2.1.4",
      "model_name": "LayoutModel",
      "state": {
       "_model_module_version": "~2.1.4",
       "_view_module_version": "~2.1.4"
      }
     },
     "9a4b1675a607416e9af3979787ae0a49": {
      "model_module": "jupyter-js-widgets",
      "model_module_version": "~2.1.4",
      "model_name": "OutputModel",
      "state": {
       "_dom_classes": [],
       "_model_module": "jupyter-js-widgets",
       "_model_module_version": "~2.1.4",
       "_view_module": "jupyter-js-widgets",
       "_view_module_version": "~2.1.4",
       "layout": "IPY_MODEL_46226b98244b41dfb38955a3eb941787",
       "msg_throttle": 1
      }
     },
     "a098d14d971e4f8784a117aee9def979": {
      "model_module": "jupyter-js-widgets",
      "model_module_version": "~2.1.4",
      "model_name": "TextModel",
      "state": {
       "_model_module_version": "~2.1.4",
       "_view_module_version": "~2.1.4",
       "description": "cmap",
       "layout": "IPY_MODEL_1392fab9f6f942f7937e27a27ed6d496",
       "value": "RdBu_r"
      }
     },
     "a0c81bbd7c2443cfba2db882420d0b16": {
      "model_module": "jupyter-js-widgets",
      "model_module_version": "~2.1.4",
      "model_name": "TextModel",
      "state": {
       "_model_module_version": "~2.1.4",
       "_view_module_version": "~2.1.4",
       "description": "cmap",
       "layout": "IPY_MODEL_574be7f47d44496d9e8da1303e1d7151",
       "value": "Purples"
      }
     },
     "a6c46f7a11764215ac2b4f732c8e0354": {
      "model_module": "jupyter-js-widgets",
      "model_module_version": "~2.1.4",
      "model_name": "DropdownModel",
      "state": {
       "_model_module_version": "~2.1.4",
       "_options_labels": [
        "Occurrence",
        "Casualty",
        "Death",
        "Wound",
        "All"
       ],
       "_view_module_version": "~2.1.4",
       "description": "Feature:",
       "layout": "IPY_MODEL_269a26b9413d403abe9f4e52791946d0",
       "value": "All"
      }
     },
     "ac78e86b6b494930ac7534b1cd68c7b3": {
      "model_module": "jupyter-js-widgets",
      "model_module_version": "~2.1.4",
      "model_name": "VBoxModel",
      "state": {
       "_dom_classes": [
        "widget-interact"
       ],
       "_model_module_version": "~2.1.4",
       "_view_module_version": "~2.1.4",
       "children": [
        "IPY_MODEL_324b411c6de34ea4a1fcbce0a7ed6541",
        "IPY_MODEL_b7adb840275d4919b9c2863e9ac760bf",
        "IPY_MODEL_a0c81bbd7c2443cfba2db882420d0b16",
        "IPY_MODEL_b3ac5d751f734dada4b5c180fecbc690"
       ],
       "layout": "IPY_MODEL_fdb439093e2e4c4ca9c9babd5a5f5bb2"
      }
     },
     "afd053f3abca4cccaa8a5e1458808592": {
      "model_module": "jupyter-js-widgets",
      "model_module_version": "~2.1.4",
      "model_name": "VBoxModel",
      "state": {
       "_dom_classes": [
        "widget-interact"
       ],
       "_model_module_version": "~2.1.4",
       "_view_module_version": "~2.1.4",
       "children": [
        "IPY_MODEL_72b9b84727b840cfa6fe21941080c07a",
        "IPY_MODEL_3e7d2ff400164bc18e27a180dbf8d3e3",
        "IPY_MODEL_a098d14d971e4f8784a117aee9def979",
        "IPY_MODEL_85e517600f6d4ec5994a13c9743f89b9"
       ],
       "layout": "IPY_MODEL_dcfdb13a45814f4186c628fa214d89bf"
      }
     },
     "b2cd46c81be743c4a8df081c3900c038": {
      "model_module": "jupyter-js-widgets",
      "model_module_version": "~2.1.4",
      "model_name": "VBoxModel",
      "state": {
       "_dom_classes": [
        "widget-interact"
       ],
       "_model_module_version": "~2.1.4",
       "_view_module_version": "~2.1.4",
       "children": [
        "IPY_MODEL_32d0c942a2484823bfe61d6511cb6eb9",
        "IPY_MODEL_a6c46f7a11764215ac2b4f732c8e0354",
        "IPY_MODEL_9a4b1675a607416e9af3979787ae0a49"
       ],
       "layout": "IPY_MODEL_ecd501e1243e4c9fa36dee4ff623e028"
      }
     },
     "b3ac5d751f734dada4b5c180fecbc690": {
      "model_module": "jupyter-js-widgets",
      "model_module_version": "~2.1.4",
      "model_name": "OutputModel",
      "state": {
       "_dom_classes": [],
       "_model_module": "jupyter-js-widgets",
       "_model_module_version": "~2.1.4",
       "_view_module": "jupyter-js-widgets",
       "_view_module_version": "~2.1.4",
       "layout": "IPY_MODEL_b3d2c2ca08084617a21fdaec43b20380",
       "msg_throttle": 1
      }
     },
     "b3d2c2ca08084617a21fdaec43b20380": {
      "model_module": "jupyter-js-widgets",
      "model_module_version": "~2.1.4",
      "model_name": "LayoutModel",
      "state": {
       "_model_module_version": "~2.1.4",
       "_view_module_version": "~2.1.4"
      }
     },
     "b7adb840275d4919b9c2863e9ac760bf": {
      "model_module": "jupyter-js-widgets",
      "model_module_version": "~2.1.4",
      "model_name": "DropdownModel",
      "state": {
       "_model_module_version": "~2.1.4",
       "_options_labels": [
        "Central America & Caribbean",
        "North America",
        "Southeast Asia",
        "Western Europe",
        "East Asia",
        "South America",
        "Eastern Europe",
        "Sub-Saharan Africa",
        "Middle East & North Africa",
        "Australasia & Oceania",
        "South Asia",
        "Central Asia"
       ],
       "_view_module_version": "~2.1.4",
       "description": "region",
       "layout": "IPY_MODEL_cbd7137a13ed4121ab59a55523ec996b",
       "value": "Southeast Asia"
      }
     },
     "bce5b743a6ca4f7588556643e18f8845": {
      "model_module": "jupyter-js-widgets",
      "model_module_version": "~2.1.4",
      "model_name": "LayoutModel",
      "state": {
       "_model_module_version": "~2.1.4",
       "_view_module_version": "~2.1.4"
      }
     },
     "be7b32a37698413ab2b52a0179e91fb6": {
      "model_module": "jupyter-js-widgets",
      "model_module_version": "~2.1.4",
      "model_name": "ToggleButtonsModel",
      "state": {
       "_model_module_version": "~2.1.4",
       "_options_labels": [
        "Deaths",
        "Wounds",
        "Casualties"
       ],
       "_view_module_version": "~2.1.4",
       "button_style": "",
       "description": "Feature",
       "icons": [],
       "layout": "IPY_MODEL_7158d5aad0f743e0b55619176f47089d",
       "tooltips": [],
       "value": "Casualties"
      }
     },
     "c60b19dc6d0748fcbee731a9e9248640": {
      "model_module": "jupyter-js-widgets",
      "model_module_version": "~2.1.4",
      "model_name": "LayoutModel",
      "state": {
       "_model_module_version": "~2.1.4",
       "_view_module_version": "~2.1.4"
      }
     },
     "cb13c278e70a4e23aa6a4e3f3e2fea40": {
      "model_module": "jupyter-js-widgets",
      "model_module_version": "~2.1.4",
      "model_name": "LayoutModel",
      "state": {
       "_model_module_version": "~2.1.4",
       "_view_module_version": "~2.1.4"
      }
     },
     "cbd7137a13ed4121ab59a55523ec996b": {
      "model_module": "jupyter-js-widgets",
      "model_module_version": "~2.1.4",
      "model_name": "LayoutModel",
      "state": {
       "_model_module_version": "~2.1.4",
       "_view_module_version": "~2.1.4"
      }
     },
     "d11b1c74fcaa4ec2ae05d9f530eccbb2": {
      "model_module": "jupyter-js-widgets",
      "model_module_version": "~2.1.4",
      "model_name": "LayoutModel",
      "state": {
       "_model_module_version": "~2.1.4",
       "_view_module_version": "~2.1.4"
      }
     },
     "dcfdb13a45814f4186c628fa214d89bf": {
      "model_module": "jupyter-js-widgets",
      "model_module_version": "~2.1.4",
      "model_name": "LayoutModel",
      "state": {
       "_model_module_version": "~2.1.4",
       "_view_module_version": "~2.1.4"
      }
     },
     "df77e29fc859407f83cf0fcc40282ab0": {
      "model_module": "jupyter-js-widgets",
      "model_module_version": "~2.1.4",
      "model_name": "LayoutModel",
      "state": {
       "_model_module_version": "~2.1.4",
       "_view_module_version": "~2.1.4"
      }
     },
     "e52c80039d6e4c0c903664e980581719": {
      "model_module": "jupyter-js-widgets",
      "model_module_version": "~2.1.4",
      "model_name": "VBoxModel",
      "state": {
       "_dom_classes": [
        "widget-interact"
       ],
       "_model_module_version": "~2.1.4",
       "_view_module_version": "~2.1.4",
       "children": [
        "IPY_MODEL_2e38ae2bc3664a1a9773d68d9cc85dcf",
        "IPY_MODEL_0c313bf15ca4498ba1a21029b57b9962",
        "IPY_MODEL_63991094d4834f648a1d2459e88201df",
        "IPY_MODEL_83122590ca02450cb26844fcc832ca8c"
       ],
       "layout": "IPY_MODEL_bce5b743a6ca4f7588556643e18f8845"
      }
     },
     "e6a96ea1de544c8dbe2f6a298070955b": {
      "model_module": "jupyter-js-widgets",
      "model_module_version": "~2.1.4",
      "model_name": "OutputModel",
      "state": {
       "_dom_classes": [],
       "_model_module": "jupyter-js-widgets",
       "_model_module_version": "~2.1.4",
       "_view_module": "jupyter-js-widgets",
       "_view_module_version": "~2.1.4",
       "layout": "IPY_MODEL_df77e29fc859407f83cf0fcc40282ab0",
       "msg_throttle": 1
      }
     },
     "e804e5007ba14a6facdfe8fbf0e5dc17": {
      "model_module": "jupyter-js-widgets",
      "model_module_version": "~2.1.4",
      "model_name": "DropdownModel",
      "state": {
       "_model_module_version": "~2.1.4",
       "_options_labels": [
        "Ocean",
        "Orchid",
        "NYU Pride",
        "Alert",
        "Grassland",
        "Orange"
       ],
       "_view_module_version": "~2.1.4",
       "description": "Palette",
       "layout": "IPY_MODEL_cb13c278e70a4e23aa6a4e3f3e2fea40",
       "value": "Orange"
      }
     },
     "ec46d64e2ef943f6b531d983061dc973": {
      "model_module": "jupyter-js-widgets",
      "model_module_version": "~2.1.4",
      "model_name": "LayoutModel",
      "state": {
       "_model_module_version": "~2.1.4",
       "_view_module_version": "~2.1.4",
       "width": "80%"
      }
     },
     "ecd501e1243e4c9fa36dee4ff623e028": {
      "model_module": "jupyter-js-widgets",
      "model_module_version": "~2.1.4",
      "model_name": "LayoutModel",
      "state": {
       "_model_module_version": "~2.1.4",
       "_view_module_version": "~2.1.4"
      }
     },
     "f4fd0baae07149fa8029610177027251": {
      "model_module": "jupyter-js-widgets",
      "model_module_version": "~2.1.4",
      "model_name": "LayoutModel",
      "state": {
       "_model_module_version": "~2.1.4",
       "_view_module_version": "~2.1.4"
      }
     },
     "fd8cb236497142e3a1bc99c5fef85e20": {
      "model_module": "jupyter-js-widgets",
      "model_module_version": "~2.1.4",
      "model_name": "LayoutModel",
      "state": {
       "_model_module_version": "~2.1.4",
       "_view_module_version": "~2.1.4"
      }
     },
     "fdb439093e2e4c4ca9c9babd5a5f5bb2": {
      "model_module": "jupyter-js-widgets",
      "model_module_version": "~2.1.4",
      "model_name": "LayoutModel",
      "state": {
       "_model_module_version": "~2.1.4",
       "_view_module_version": "~2.1.4"
      }
     },
     "ff399e28b4db4ce38af751af53a993cd": {
      "model_module": "jupyter-js-widgets",
      "model_module_version": "~2.1.4",
      "model_name": "LayoutModel",
      "state": {
       "_model_module_version": "~2.1.4",
       "_view_module_version": "~2.1.4"
      }
     }
    },
    "version_major": 1,
    "version_minor": 0
   }
  }
 },
 "nbformat": 4,
 "nbformat_minor": 2
}
